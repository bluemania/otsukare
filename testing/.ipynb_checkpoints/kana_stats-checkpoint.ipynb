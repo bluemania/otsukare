{
 "cells": [
  {
   "cell_type": "code",
   "execution_count": 1,
   "metadata": {},
   "outputs": [
    {
     "name": "stderr",
     "output_type": "stream",
     "text": [
      "C:\\Users\\Damnt\\Anaconda3\\lib\\site-packages\\flask_sqlalchemy\\__init__.py:839: FSADeprecationWarning: SQLALCHEMY_TRACK_MODIFICATIONS adds significant overhead and will be disabled by default in the future.  Set it to True or False to suppress this warning.\n",
      "  'SQLALCHEMY_TRACK_MODIFICATIONS adds significant overhead and '\n",
      "C:\\Users\\Damnt\\Anaconda3\\lib\\site-packages\\flask_sqlalchemy\\__init__.py:839: FSADeprecationWarning: SQLALCHEMY_TRACK_MODIFICATIONS adds significant overhead and will be disabled by default in the future.  Set it to True or False to suppress this warning.\n",
      "  'SQLALCHEMY_TRACK_MODIFICATIONS adds significant overhead and '\n"
     ]
    }
   ],
   "source": [
    "from flask import Flask\n",
    "from flask_sqlalchemy import SQLAlchemy\n",
    "\n",
    "app = Flask(__name__)\n",
    "app.config.from_object('otsukare.config.BaseConfig')\n",
    "\n",
    "db = SQLAlchemy(app)"
   ]
  },
  {
   "cell_type": "code",
   "execution_count": 2,
   "metadata": {
    "collapsed": true
   },
   "outputs": [],
   "source": [
    "from otsukare.models import *"
   ]
  },
  {
   "cell_type": "code",
   "execution_count": null,
   "metadata": {
    "collapsed": true
   },
   "outputs": [],
   "source": [
    "session.query(\n",
    "    Expense.date,\n",
    "    func.sum(Expense.value).label('total')\n",
    ").join(Expense.cost_center\n",
    ").filter(CostCenter.id.in_([2, 3])\n",
    ").group_by(Expense.date\n",
    ").all()"
   ]
  },
  {
   "cell_type": "code",
   "execution_count": 14,
   "metadata": {},
   "outputs": [],
   "source": [
    "from otsukare.analysis import * "
   ]
  },
  {
   "cell_type": "code",
   "execution_count": 31,
   "metadata": {},
   "outputs": [],
   "source": [
    "kana_known = pd.read_sql('SELECT * from \"Kana_Known\"', db.engine.connect().connection)[[\"user_id\",\"tokens\"]].groupby(\"user_id\").sum()\n",
    "kana_known.columns = [\"Kana\"]\n",
    "words_known = pd.read_sql('SELECT * from \"Words_Known\"', db.engine.connect().connection)[[\"user_id\",\"tokens\"]].groupby(\"user_id\").sum()\n",
    "words_known.columns = [\"Words\"]\n",
    "sent_known = pd.read_sql('SELECT * from \"Needs_Known\"', db.engine.connect().connection)[[\"user_id\",\"tokens\"]].groupby(\"user_id\").sum()\n",
    "sent_known.columns = [\"Sentences\"]\n",
    "\n",
    "usernames = pd.read_sql('SELECT * from \"Users\"', db.engine.connect().connection).set_index(\"id\")[[\"username\"]]\n",
    "usernames.columns = [\"Username\"]\n",
    "\n",
    "usernames.join(kana_known).join(words_known).join(sent_known).fillna(0)"
   ]
  },
  {
   "cell_type": "code",
   "execution_count": 40,
   "metadata": {},
   "outputs": [],
   "source": []
  },
  {
   "cell_type": "code",
   "execution_count": 42,
   "metadata": {},
   "outputs": [
    {
     "data": {
      "text/html": [
       "<div>\n",
       "<style>\n",
       "    .dataframe thead tr:only-child th {\n",
       "        text-align: right;\n",
       "    }\n",
       "\n",
       "    .dataframe thead th {\n",
       "        text-align: left;\n",
       "    }\n",
       "\n",
       "    .dataframe tbody tr th {\n",
       "        vertical-align: top;\n",
       "    }\n",
       "</style>\n",
       "<table border=\"1\" class=\"dataframe\">\n",
       "  <thead>\n",
       "    <tr style=\"text-align: right;\">\n",
       "      <th></th>\n",
       "      <th>Username</th>\n",
       "      <th>Kana</th>\n",
       "      <th>Words</th>\n",
       "      <th>Sentences</th>\n",
       "    </tr>\n",
       "    <tr>\n",
       "      <th>id</th>\n",
       "      <th></th>\n",
       "      <th></th>\n",
       "      <th></th>\n",
       "      <th></th>\n",
       "    </tr>\n",
       "  </thead>\n",
       "  <tbody>\n",
       "    <tr>\n",
       "      <th>1</th>\n",
       "      <td>Bluemania</td>\n",
       "      <td>23.0</td>\n",
       "      <td>2.0</td>\n",
       "      <td>2.0</td>\n",
       "    </tr>\n",
       "    <tr>\n",
       "      <th>2</th>\n",
       "      <td>Skyver</td>\n",
       "      <td>0.0</td>\n",
       "      <td>0.0</td>\n",
       "      <td>0.0</td>\n",
       "    </tr>\n",
       "  </tbody>\n",
       "</table>\n",
       "</div>"
      ],
      "text/plain": [
       "     Username  Kana  Words  Sentences\n",
       "id                                   \n",
       "1   Bluemania  23.0    2.0        2.0\n",
       "2      Skyver   0.0    0.0        0.0"
      ]
     },
     "execution_count": 42,
     "metadata": {},
     "output_type": "execute_result"
    }
   ],
   "source": []
  },
  {
   "cell_type": "code",
   "execution_count": null,
   "metadata": {
    "collapsed": true
   },
   "outputs": [],
   "source": []
  },
  {
   "cell_type": "code",
   "execution_count": null,
   "metadata": {
    "collapsed": true
   },
   "outputs": [],
   "source": []
  },
  {
   "cell_type": "code",
   "execution_count": null,
   "metadata": {
    "collapsed": true
   },
   "outputs": [],
   "source": []
  },
  {
   "cell_type": "code",
   "execution_count": null,
   "metadata": {
    "collapsed": true
   },
   "outputs": [],
   "source": []
  },
  {
   "cell_type": "code",
   "execution_count": 3,
   "metadata": {
    "collapsed": true
   },
   "outputs": [],
   "source": [
    "import pandas as pd"
   ]
  },
  {
   "cell_type": "code",
   "execution_count": 4,
   "metadata": {
    "collapsed": true
   },
   "outputs": [],
   "source": [
    "kana_known = pd.read_sql(Kana_Known.query.filter_by(user_id=1).statement, Kana_Known.query.session.bind)"
   ]
  },
  {
   "cell_type": "code",
   "execution_count": 5,
   "metadata": {
    "collapsed": true
   },
   "outputs": [],
   "source": [
    "kana = pd.read_sql(Kana.query.statement, Kana.query.session.bind)"
   ]
  },
  {
   "cell_type": "code",
   "execution_count": 6,
   "metadata": {
    "collapsed": true
   },
   "outputs": [],
   "source": [
    "kana_stats = pd.merge(kana_known, kana, how='inner', left_on=\"kana_id\", right_on=\"id\")"
   ]
  },
  {
   "cell_type": "code",
   "execution_count": 7,
   "metadata": {
    "collapsed": true
   },
   "outputs": [],
   "source": [
    "kana_stats = kana_stats.set_index(\"kana_id\")"
   ]
  },
  {
   "cell_type": "code",
   "execution_count": 8,
   "metadata": {
    "collapsed": true
   },
   "outputs": [],
   "source": [
    "task_stats = pd.read_sql(Tasks.query.filter(Tasks.user_id==1, \n",
    "                                      Tasks.task_id>=1, Tasks.task_id<=5, \n",
    "                                      Tasks.status!=-1).statement, Kana.query.session.bind)"
   ]
  },
  {
   "cell_type": "code",
   "execution_count": 9,
   "metadata": {
    "collapsed": true
   },
   "outputs": [],
   "source": [
    "incorrect = task_stats[task_stats[\"status\"]==0].groupby(\"answer\").count()[\"id\"]\n",
    "incorrect.index = incorrect.index.astype(int)\n",
    "incorrect.name = \"incorrect\"\n",
    "correct = task_stats[task_stats[\"status\"]==1].groupby(\"answer\").count()[\"id\"]\n",
    "correct.index = correct.index.astype(int)\n",
    "correct.name = \"correct\""
   ]
  },
  {
   "cell_type": "code",
   "execution_count": 10,
   "metadata": {},
   "outputs": [
    {
     "data": {
      "text/plain": [
       "answer\n",
       "101    2\n",
       "102    1\n",
       "105    1\n",
       "110    2\n",
       "114    2\n",
       "142    2\n",
       "160    1\n",
       "162    2\n",
       "163    3\n",
       "168    2\n",
       "179    2\n",
       "185    2\n",
       "196    2\n",
       "207    2\n",
       "208    2\n",
       "21     1\n",
       "27     3\n",
       "37     2\n",
       "38     2\n",
       "40     2\n",
       "50     2\n",
       "6      1\n",
       "66     2\n",
       "85     1\n",
       "90     3\n",
       "91     1\n",
       "99     2\n",
       "Name: correct, dtype: int64"
      ]
     },
     "execution_count": 10,
     "metadata": {},
     "output_type": "execute_result"
    }
   ],
   "source": [
    "correct"
   ]
  },
  {
   "cell_type": "code",
   "execution_count": 11,
   "metadata": {
    "collapsed": true
   },
   "outputs": [],
   "source": [
    "kana_stats = kana_stats.join(correct).join(incorrect)"
   ]
  },
  {
   "cell_type": "code",
   "execution_count": 12,
   "metadata": {},
   "outputs": [
    {
     "data": {
      "text/plain": [
       "Index(['id_x', 'user_id', 'level', 'last_practiced', 'tokens', 'id_y', 'type',\n",
       "       'kana', 'romanji', 'tags', 'correct', 'incorrect'],\n",
       "      dtype='object')"
      ]
     },
     "execution_count": 12,
     "metadata": {},
     "output_type": "execute_result"
    }
   ],
   "source": [
    "kana_stats.columns"
   ]
  },
  {
   "cell_type": "code",
   "execution_count": 13,
   "metadata": {
    "collapsed": true
   },
   "outputs": [],
   "source": [
    "kana_stats = kana_stats[[\"kana\", \"romanji\", \"correct\", \"incorrect\"]]"
   ]
  },
  {
   "cell_type": "code",
   "execution_count": 14,
   "metadata": {},
   "outputs": [
    {
     "data": {
      "text/html": [
       "<div>\n",
       "<style>\n",
       "    .dataframe thead tr:only-child th {\n",
       "        text-align: right;\n",
       "    }\n",
       "\n",
       "    .dataframe thead th {\n",
       "        text-align: left;\n",
       "    }\n",
       "\n",
       "    .dataframe tbody tr th {\n",
       "        vertical-align: top;\n",
       "    }\n",
       "</style>\n",
       "<table border=\"1\" class=\"dataframe\">\n",
       "  <thead>\n",
       "    <tr style=\"text-align: right;\">\n",
       "      <th></th>\n",
       "      <th>kana</th>\n",
       "      <th>romanji</th>\n",
       "      <th>correct</th>\n",
       "      <th>incorrect</th>\n",
       "    </tr>\n",
       "    <tr>\n",
       "      <th>kana_id</th>\n",
       "      <th></th>\n",
       "      <th></th>\n",
       "      <th></th>\n",
       "      <th></th>\n",
       "    </tr>\n",
       "  </thead>\n",
       "  <tbody>\n",
       "    <tr>\n",
       "      <th>144</th>\n",
       "      <td>ジュ</td>\n",
       "      <td>ju</td>\n",
       "      <td>NaN</td>\n",
       "      <td>4.0</td>\n",
       "    </tr>\n",
       "    <tr>\n",
       "      <th>91</th>\n",
       "      <td>みゃ</td>\n",
       "      <td>mya</td>\n",
       "      <td>1.0</td>\n",
       "      <td>1.0</td>\n",
       "    </tr>\n",
       "    <tr>\n",
       "      <th>160</th>\n",
       "      <td>ミュ</td>\n",
       "      <td>myu</td>\n",
       "      <td>1.0</td>\n",
       "      <td>1.0</td>\n",
       "    </tr>\n",
       "    <tr>\n",
       "      <th>66</th>\n",
       "      <td>よ</td>\n",
       "      <td>yo</td>\n",
       "      <td>2.0</td>\n",
       "      <td>NaN</td>\n",
       "    </tr>\n",
       "    <tr>\n",
       "      <th>37</th>\n",
       "      <td>ね</td>\n",
       "      <td>ne</td>\n",
       "      <td>2.0</td>\n",
       "      <td>1.0</td>\n",
       "    </tr>\n",
       "    <tr>\n",
       "      <th>50</th>\n",
       "      <td>ろ</td>\n",
       "      <td>ro</td>\n",
       "      <td>2.0</td>\n",
       "      <td>NaN</td>\n",
       "    </tr>\n",
       "    <tr>\n",
       "      <th>110</th>\n",
       "      <td>ボ</td>\n",
       "      <td>bo</td>\n",
       "      <td>2.0</td>\n",
       "      <td>1.0</td>\n",
       "    </tr>\n",
       "    <tr>\n",
       "      <th>207</th>\n",
       "      <td>ゼ</td>\n",
       "      <td>ze</td>\n",
       "      <td>2.0</td>\n",
       "      <td>1.0</td>\n",
       "    </tr>\n",
       "    <tr>\n",
       "      <th>38</th>\n",
       "      <td>に</td>\n",
       "      <td>ni</td>\n",
       "      <td>2.0</td>\n",
       "      <td>NaN</td>\n",
       "    </tr>\n",
       "    <tr>\n",
       "      <th>101</th>\n",
       "      <td>りょ</td>\n",
       "      <td>ryo</td>\n",
       "      <td>2.0</td>\n",
       "      <td>2.0</td>\n",
       "    </tr>\n",
       "    <tr>\n",
       "      <th>142</th>\n",
       "      <td>ヂ</td>\n",
       "      <td>ji</td>\n",
       "      <td>2.0</td>\n",
       "      <td>NaN</td>\n",
       "    </tr>\n",
       "    <tr>\n",
       "      <th>85</th>\n",
       "      <td>じゃ</td>\n",
       "      <td>ja</td>\n",
       "      <td>1.0</td>\n",
       "      <td>1.0</td>\n",
       "    </tr>\n",
       "    <tr>\n",
       "      <th>185</th>\n",
       "      <td>リョ</td>\n",
       "      <td>ryo</td>\n",
       "      <td>2.0</td>\n",
       "      <td>1.0</td>\n",
       "    </tr>\n",
       "    <tr>\n",
       "      <th>168</th>\n",
       "      <td>ニョ</td>\n",
       "      <td>nyo</td>\n",
       "      <td>2.0</td>\n",
       "      <td>NaN</td>\n",
       "    </tr>\n",
       "    <tr>\n",
       "      <th>208</th>\n",
       "      <td>ゾ</td>\n",
       "      <td>zo</td>\n",
       "      <td>2.0</td>\n",
       "      <td>1.0</td>\n",
       "    </tr>\n",
       "    <tr>\n",
       "      <th>105</th>\n",
       "      <td>しゅ</td>\n",
       "      <td>shu</td>\n",
       "      <td>1.0</td>\n",
       "      <td>NaN</td>\n",
       "    </tr>\n",
       "    <tr>\n",
       "      <th>27</th>\n",
       "      <td>き</td>\n",
       "      <td>ki</td>\n",
       "      <td>3.0</td>\n",
       "      <td>1.0</td>\n",
       "    </tr>\n",
       "    <tr>\n",
       "      <th>196</th>\n",
       "      <td>テ</td>\n",
       "      <td>te</td>\n",
       "      <td>2.0</td>\n",
       "      <td>2.0</td>\n",
       "    </tr>\n",
       "    <tr>\n",
       "      <th>102</th>\n",
       "      <td>りゅ</td>\n",
       "      <td>ryu</td>\n",
       "      <td>1.0</td>\n",
       "      <td>5.0</td>\n",
       "    </tr>\n",
       "    <tr>\n",
       "      <th>21</th>\n",
       "      <td>ほ</td>\n",
       "      <td>ho</td>\n",
       "      <td>1.0</td>\n",
       "      <td>NaN</td>\n",
       "    </tr>\n",
       "    <tr>\n",
       "      <th>99</th>\n",
       "      <td>ぴゅ</td>\n",
       "      <td>pyu</td>\n",
       "      <td>2.0</td>\n",
       "      <td>3.0</td>\n",
       "    </tr>\n",
       "    <tr>\n",
       "      <th>162</th>\n",
       "      <td>ナ</td>\n",
       "      <td>na</td>\n",
       "      <td>2.0</td>\n",
       "      <td>2.0</td>\n",
       "    </tr>\n",
       "    <tr>\n",
       "      <th>114</th>\n",
       "      <td>ビュ</td>\n",
       "      <td>byu</td>\n",
       "      <td>2.0</td>\n",
       "      <td>4.0</td>\n",
       "    </tr>\n",
       "    <tr>\n",
       "      <th>40</th>\n",
       "      <td>ぬ</td>\n",
       "      <td>nu</td>\n",
       "      <td>2.0</td>\n",
       "      <td>2.0</td>\n",
       "    </tr>\n",
       "    <tr>\n",
       "      <th>179</th>\n",
       "      <td>ラ</td>\n",
       "      <td>ra</td>\n",
       "      <td>2.0</td>\n",
       "      <td>NaN</td>\n",
       "    </tr>\n",
       "    <tr>\n",
       "      <th>90</th>\n",
       "      <td>きゅ</td>\n",
       "      <td>kyu</td>\n",
       "      <td>3.0</td>\n",
       "      <td>2.0</td>\n",
       "    </tr>\n",
       "    <tr>\n",
       "      <th>6</th>\n",
       "      <td>ぶ</td>\n",
       "      <td>bu</td>\n",
       "      <td>1.0</td>\n",
       "      <td>3.0</td>\n",
       "    </tr>\n",
       "    <tr>\n",
       "      <th>163</th>\n",
       "      <td>ネ</td>\n",
       "      <td>ne</td>\n",
       "      <td>3.0</td>\n",
       "      <td>1.0</td>\n",
       "    </tr>\n",
       "  </tbody>\n",
       "</table>\n",
       "</div>"
      ],
      "text/plain": [
       "        kana romanji  correct  incorrect\n",
       "kana_id                                 \n",
       "144       ジュ      ju      NaN        4.0\n",
       "91        みゃ     mya      1.0        1.0\n",
       "160       ミュ     myu      1.0        1.0\n",
       "66         よ      yo      2.0        NaN\n",
       "37         ね      ne      2.0        1.0\n",
       "50         ろ      ro      2.0        NaN\n",
       "110        ボ      bo      2.0        1.0\n",
       "207        ゼ      ze      2.0        1.0\n",
       "38         に      ni      2.0        NaN\n",
       "101       りょ     ryo      2.0        2.0\n",
       "142        ヂ      ji      2.0        NaN\n",
       "85        じゃ      ja      1.0        1.0\n",
       "185       リョ     ryo      2.0        1.0\n",
       "168       ニョ     nyo      2.0        NaN\n",
       "208        ゾ      zo      2.0        1.0\n",
       "105       しゅ     shu      1.0        NaN\n",
       "27         き      ki      3.0        1.0\n",
       "196        テ      te      2.0        2.0\n",
       "102       りゅ     ryu      1.0        5.0\n",
       "21         ほ      ho      1.0        NaN\n",
       "99        ぴゅ     pyu      2.0        3.0\n",
       "162        ナ      na      2.0        2.0\n",
       "114       ビュ     byu      2.0        4.0\n",
       "40         ぬ      nu      2.0        2.0\n",
       "179        ラ      ra      2.0        NaN\n",
       "90        きゅ     kyu      3.0        2.0\n",
       "6          ぶ      bu      1.0        3.0\n",
       "163        ネ      ne      3.0        1.0"
      ]
     },
     "execution_count": 14,
     "metadata": {},
     "output_type": "execute_result"
    }
   ],
   "source": [
    "kana_stats"
   ]
  },
  {
   "cell_type": "code",
   "execution_count": 15,
   "metadata": {
    "collapsed": true
   },
   "outputs": [],
   "source": [
    "test = task_stats[(task_stats[\"status\"]==0) & (task_stats[\"response\"]!=\"-1\")]"
   ]
  },
  {
   "cell_type": "code",
   "execution_count": 16,
   "metadata": {
    "collapsed": true
   },
   "outputs": [],
   "source": [
    "most_incorrect_x = pd.crosstab(test[\"answer\"],test[\"response\"])\n",
    "most_incorrect = most_incorrect_x.idxmax(axis=1)\n"
   ]
  },
  {
   "cell_type": "code",
   "execution_count": 17,
   "metadata": {
    "collapsed": true
   },
   "outputs": [],
   "source": [
    "most_incorrect.index = most_incorrect.index.astype(int)\n"
   ]
  },
  {
   "cell_type": "code",
   "execution_count": 18,
   "metadata": {
    "collapsed": true
   },
   "outputs": [],
   "source": [
    "most_incorrect = kana_stats.loc[most_incorrect.index,\"kana\"]\n",
    "most_incorrect.name = \"most incorrect\""
   ]
  },
  {
   "cell_type": "code",
   "execution_count": 19,
   "metadata": {
    "collapsed": true
   },
   "outputs": [],
   "source": [
    "kana_stats = kana_stats.join(most_incorrect)"
   ]
  },
  {
   "cell_type": "code",
   "execution_count": 20,
   "metadata": {},
   "outputs": [
    {
     "data": {
      "text/html": [
       "<div>\n",
       "<style>\n",
       "    .dataframe thead tr:only-child th {\n",
       "        text-align: right;\n",
       "    }\n",
       "\n",
       "    .dataframe thead th {\n",
       "        text-align: left;\n",
       "    }\n",
       "\n",
       "    .dataframe tbody tr th {\n",
       "        vertical-align: top;\n",
       "    }\n",
       "</style>\n",
       "<table border=\"1\" class=\"dataframe\">\n",
       "  <thead>\n",
       "    <tr style=\"text-align: right;\">\n",
       "      <th></th>\n",
       "      <th>kana</th>\n",
       "      <th>romanji</th>\n",
       "      <th>correct</th>\n",
       "      <th>incorrect</th>\n",
       "      <th>most incorrect</th>\n",
       "    </tr>\n",
       "    <tr>\n",
       "      <th>kana_id</th>\n",
       "      <th></th>\n",
       "      <th></th>\n",
       "      <th></th>\n",
       "      <th></th>\n",
       "      <th></th>\n",
       "    </tr>\n",
       "  </thead>\n",
       "  <tbody>\n",
       "    <tr>\n",
       "      <th>144</th>\n",
       "      <td>ジュ</td>\n",
       "      <td>ju</td>\n",
       "      <td>NaN</td>\n",
       "      <td>4.0</td>\n",
       "      <td>ジュ</td>\n",
       "    </tr>\n",
       "    <tr>\n",
       "      <th>91</th>\n",
       "      <td>みゃ</td>\n",
       "      <td>mya</td>\n",
       "      <td>1.0</td>\n",
       "      <td>1.0</td>\n",
       "      <td>みゃ</td>\n",
       "    </tr>\n",
       "    <tr>\n",
       "      <th>160</th>\n",
       "      <td>ミュ</td>\n",
       "      <td>myu</td>\n",
       "      <td>1.0</td>\n",
       "      <td>1.0</td>\n",
       "      <td>ミュ</td>\n",
       "    </tr>\n",
       "    <tr>\n",
       "      <th>66</th>\n",
       "      <td>よ</td>\n",
       "      <td>yo</td>\n",
       "      <td>2.0</td>\n",
       "      <td>NaN</td>\n",
       "      <td>NaN</td>\n",
       "    </tr>\n",
       "    <tr>\n",
       "      <th>37</th>\n",
       "      <td>ね</td>\n",
       "      <td>ne</td>\n",
       "      <td>2.0</td>\n",
       "      <td>1.0</td>\n",
       "      <td>ね</td>\n",
       "    </tr>\n",
       "    <tr>\n",
       "      <th>50</th>\n",
       "      <td>ろ</td>\n",
       "      <td>ro</td>\n",
       "      <td>2.0</td>\n",
       "      <td>NaN</td>\n",
       "      <td>NaN</td>\n",
       "    </tr>\n",
       "    <tr>\n",
       "      <th>110</th>\n",
       "      <td>ボ</td>\n",
       "      <td>bo</td>\n",
       "      <td>2.0</td>\n",
       "      <td>1.0</td>\n",
       "      <td>ボ</td>\n",
       "    </tr>\n",
       "    <tr>\n",
       "      <th>207</th>\n",
       "      <td>ゼ</td>\n",
       "      <td>ze</td>\n",
       "      <td>2.0</td>\n",
       "      <td>1.0</td>\n",
       "      <td>ゼ</td>\n",
       "    </tr>\n",
       "    <tr>\n",
       "      <th>38</th>\n",
       "      <td>に</td>\n",
       "      <td>ni</td>\n",
       "      <td>2.0</td>\n",
       "      <td>NaN</td>\n",
       "      <td>NaN</td>\n",
       "    </tr>\n",
       "    <tr>\n",
       "      <th>101</th>\n",
       "      <td>りょ</td>\n",
       "      <td>ryo</td>\n",
       "      <td>2.0</td>\n",
       "      <td>2.0</td>\n",
       "      <td>りょ</td>\n",
       "    </tr>\n",
       "    <tr>\n",
       "      <th>142</th>\n",
       "      <td>ヂ</td>\n",
       "      <td>ji</td>\n",
       "      <td>2.0</td>\n",
       "      <td>NaN</td>\n",
       "      <td>NaN</td>\n",
       "    </tr>\n",
       "    <tr>\n",
       "      <th>85</th>\n",
       "      <td>じゃ</td>\n",
       "      <td>ja</td>\n",
       "      <td>1.0</td>\n",
       "      <td>1.0</td>\n",
       "      <td>NaN</td>\n",
       "    </tr>\n",
       "    <tr>\n",
       "      <th>185</th>\n",
       "      <td>リョ</td>\n",
       "      <td>ryo</td>\n",
       "      <td>2.0</td>\n",
       "      <td>1.0</td>\n",
       "      <td>リョ</td>\n",
       "    </tr>\n",
       "    <tr>\n",
       "      <th>168</th>\n",
       "      <td>ニョ</td>\n",
       "      <td>nyo</td>\n",
       "      <td>2.0</td>\n",
       "      <td>NaN</td>\n",
       "      <td>NaN</td>\n",
       "    </tr>\n",
       "    <tr>\n",
       "      <th>208</th>\n",
       "      <td>ゾ</td>\n",
       "      <td>zo</td>\n",
       "      <td>2.0</td>\n",
       "      <td>1.0</td>\n",
       "      <td>NaN</td>\n",
       "    </tr>\n",
       "    <tr>\n",
       "      <th>105</th>\n",
       "      <td>しゅ</td>\n",
       "      <td>shu</td>\n",
       "      <td>1.0</td>\n",
       "      <td>NaN</td>\n",
       "      <td>NaN</td>\n",
       "    </tr>\n",
       "    <tr>\n",
       "      <th>27</th>\n",
       "      <td>き</td>\n",
       "      <td>ki</td>\n",
       "      <td>3.0</td>\n",
       "      <td>1.0</td>\n",
       "      <td>き</td>\n",
       "    </tr>\n",
       "    <tr>\n",
       "      <th>196</th>\n",
       "      <td>テ</td>\n",
       "      <td>te</td>\n",
       "      <td>2.0</td>\n",
       "      <td>2.0</td>\n",
       "      <td>テ</td>\n",
       "    </tr>\n",
       "    <tr>\n",
       "      <th>102</th>\n",
       "      <td>りゅ</td>\n",
       "      <td>ryu</td>\n",
       "      <td>1.0</td>\n",
       "      <td>5.0</td>\n",
       "      <td>りゅ</td>\n",
       "    </tr>\n",
       "    <tr>\n",
       "      <th>21</th>\n",
       "      <td>ほ</td>\n",
       "      <td>ho</td>\n",
       "      <td>1.0</td>\n",
       "      <td>NaN</td>\n",
       "      <td>NaN</td>\n",
       "    </tr>\n",
       "    <tr>\n",
       "      <th>99</th>\n",
       "      <td>ぴゅ</td>\n",
       "      <td>pyu</td>\n",
       "      <td>2.0</td>\n",
       "      <td>3.0</td>\n",
       "      <td>ぴゅ</td>\n",
       "    </tr>\n",
       "    <tr>\n",
       "      <th>162</th>\n",
       "      <td>ナ</td>\n",
       "      <td>na</td>\n",
       "      <td>2.0</td>\n",
       "      <td>2.0</td>\n",
       "      <td>ナ</td>\n",
       "    </tr>\n",
       "    <tr>\n",
       "      <th>114</th>\n",
       "      <td>ビュ</td>\n",
       "      <td>byu</td>\n",
       "      <td>2.0</td>\n",
       "      <td>4.0</td>\n",
       "      <td>ビュ</td>\n",
       "    </tr>\n",
       "    <tr>\n",
       "      <th>40</th>\n",
       "      <td>ぬ</td>\n",
       "      <td>nu</td>\n",
       "      <td>2.0</td>\n",
       "      <td>2.0</td>\n",
       "      <td>ぬ</td>\n",
       "    </tr>\n",
       "    <tr>\n",
       "      <th>179</th>\n",
       "      <td>ラ</td>\n",
       "      <td>ra</td>\n",
       "      <td>2.0</td>\n",
       "      <td>NaN</td>\n",
       "      <td>NaN</td>\n",
       "    </tr>\n",
       "    <tr>\n",
       "      <th>90</th>\n",
       "      <td>きゅ</td>\n",
       "      <td>kyu</td>\n",
       "      <td>3.0</td>\n",
       "      <td>2.0</td>\n",
       "      <td>きゅ</td>\n",
       "    </tr>\n",
       "    <tr>\n",
       "      <th>6</th>\n",
       "      <td>ぶ</td>\n",
       "      <td>bu</td>\n",
       "      <td>1.0</td>\n",
       "      <td>3.0</td>\n",
       "      <td>ぶ</td>\n",
       "    </tr>\n",
       "    <tr>\n",
       "      <th>163</th>\n",
       "      <td>ネ</td>\n",
       "      <td>ne</td>\n",
       "      <td>3.0</td>\n",
       "      <td>1.0</td>\n",
       "      <td>NaN</td>\n",
       "    </tr>\n",
       "  </tbody>\n",
       "</table>\n",
       "</div>"
      ],
      "text/plain": [
       "        kana romanji  correct  incorrect most incorrect\n",
       "kana_id                                                \n",
       "144       ジュ      ju      NaN        4.0             ジュ\n",
       "91        みゃ     mya      1.0        1.0             みゃ\n",
       "160       ミュ     myu      1.0        1.0             ミュ\n",
       "66         よ      yo      2.0        NaN            NaN\n",
       "37         ね      ne      2.0        1.0              ね\n",
       "50         ろ      ro      2.0        NaN            NaN\n",
       "110        ボ      bo      2.0        1.0              ボ\n",
       "207        ゼ      ze      2.0        1.0              ゼ\n",
       "38         に      ni      2.0        NaN            NaN\n",
       "101       りょ     ryo      2.0        2.0             りょ\n",
       "142        ヂ      ji      2.0        NaN            NaN\n",
       "85        じゃ      ja      1.0        1.0            NaN\n",
       "185       リョ     ryo      2.0        1.0             リョ\n",
       "168       ニョ     nyo      2.0        NaN            NaN\n",
       "208        ゾ      zo      2.0        1.0            NaN\n",
       "105       しゅ     shu      1.0        NaN            NaN\n",
       "27         き      ki      3.0        1.0              き\n",
       "196        テ      te      2.0        2.0              テ\n",
       "102       りゅ     ryu      1.0        5.0             りゅ\n",
       "21         ほ      ho      1.0        NaN            NaN\n",
       "99        ぴゅ     pyu      2.0        3.0             ぴゅ\n",
       "162        ナ      na      2.0        2.0              ナ\n",
       "114       ビュ     byu      2.0        4.0             ビュ\n",
       "40         ぬ      nu      2.0        2.0              ぬ\n",
       "179        ラ      ra      2.0        NaN            NaN\n",
       "90        きゅ     kyu      3.0        2.0             きゅ\n",
       "6          ぶ      bu      1.0        3.0              ぶ\n",
       "163        ネ      ne      3.0        1.0            NaN"
      ]
     },
     "execution_count": 20,
     "metadata": {},
     "output_type": "execute_result"
    }
   ],
   "source": [
    "kana_stats"
   ]
  },
  {
   "cell_type": "code",
   "execution_count": null,
   "metadata": {
    "collapsed": true
   },
   "outputs": [],
   "source": []
  }
 ],
 "metadata": {
  "kernelspec": {
   "display_name": "Python 3",
   "language": "python",
   "name": "python3"
  },
  "language_info": {
   "codemirror_mode": {
    "name": "ipython",
    "version": 3
   },
   "file_extension": ".py",
   "mimetype": "text/x-python",
   "name": "python",
   "nbconvert_exporter": "python",
   "pygments_lexer": "ipython3",
   "version": "3.6.1"
  }
 },
 "nbformat": 4,
 "nbformat_minor": 2
}
